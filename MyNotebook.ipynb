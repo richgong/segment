{
 "cells": [
  {
   "cell_type": "code",
   "execution_count": null,
   "id": "83141318-d193-4934-af85-a1629d4373ed",
   "metadata": {},
   "outputs": [],
   "source": []
  },
  {
   "cell_type": "code",
   "execution_count": 1,
   "id": "34b6750c-d9a1-4329-afd2-2bc8880882c7",
   "metadata": {},
   "outputs": [],
   "source": [
    "from segment_anything import SamPredictor, sam_model_registry\n",
    "\n",
    "import numpy as np\n",
    "import urllib.request\n",
    "import tempfile"
   ]
  },
  {
   "cell_type": "code",
   "execution_count": 6,
   "id": "768207d4-2641-4113-b385-4d48a296e6e4",
   "metadata": {},
   "outputs": [],
   "source": [
    "import numpy as np\n",
    "from PIL import Image\n",
    "import requests\n",
    "from io import BytesIO\n",
    "\n",
    "def get_image(url):\n",
    "    response = requests.get(url)\n",
    "    img = Image.open(BytesIO(response.content))\n",
    "    img_array = np.array(img)\n",
    "    return img_array\n",
    "\n"
   ]
  },
  {
   "cell_type": "code",
   "execution_count": 9,
   "id": "55518de1-07b8-4ffc-acae-e4215e0afda7",
   "metadata": {},
   "outputs": [
    {
     "data": {
      "text/plain": [
       "array([[[255, 255, 255],\n",
       "        [255, 255, 255],\n",
       "        [255, 255, 255],\n",
       "        ...,\n",
       "        [251, 255, 255],\n",
       "        [251, 255, 254],\n",
       "        [252, 255, 255]],\n",
       "\n",
       "       [[255, 255, 255],\n",
       "        [255, 255, 255],\n",
       "        [255, 255, 255],\n",
       "        ...,\n",
       "        [250, 254, 255],\n",
       "        [251, 255, 254],\n",
       "        [251, 255, 254]],\n",
       "\n",
       "       [[255, 255, 255],\n",
       "        [255, 255, 255],\n",
       "        [255, 255, 255],\n",
       "        ...,\n",
       "        [250, 254, 255],\n",
       "        [250, 254, 253],\n",
       "        [251, 255, 254]],\n",
       "\n",
       "       ...,\n",
       "\n",
       "       [[234, 237, 254],\n",
       "        [232, 238, 254],\n",
       "        [234, 237, 254],\n",
       "        ...,\n",
       "        [219, 221, 233],\n",
       "        [221, 223, 235],\n",
       "        [223, 226, 235]],\n",
       "\n",
       "       [[234, 235, 253],\n",
       "        [234, 237, 254],\n",
       "        [235, 236, 254],\n",
       "        ...,\n",
       "        [218, 221, 230],\n",
       "        [220, 223, 232],\n",
       "        [222, 225, 232]],\n",
       "\n",
       "       [[234, 235, 253],\n",
       "        [235, 236, 254],\n",
       "        [235, 236, 254],\n",
       "        ...,\n",
       "        [218, 221, 230],\n",
       "        [220, 223, 230],\n",
       "        [222, 225, 232]]], dtype=uint8)"
      ]
     },
     "execution_count": 9,
     "metadata": {},
     "output_type": "execute_result"
    }
   ],
   "source": [
    "image = get_image('https://www.islandmovers.com/wp-content/uploads/2020/04/how-to-move-with-a-fridge-full-of-food-300x290.jpg')\n",
    "image"
   ]
  },
  {
   "cell_type": "code",
   "execution_count": 10,
   "id": "4ce5f1b5-6b77-4aca-a7fb-a5aca8fd8bb6",
   "metadata": {},
   "outputs": [],
   "source": [
    "sam = sam_model_registry[\"vit_h\"](checkpoint=\"sam_vit_h_4b8939.pth\")\n",
    "predictor = SamPredictor(sam)\n",
    "image = get_image('https://www.islandmovers.com/wp-content/uploads/2020/04/how-to-move-with-a-fridge-full-of-food-300x290.jpg')\n",
    "predictor.set_image(image)\n"
   ]
  }
 ],
 "metadata": {
  "kernelspec": {
   "display_name": "Python 3 (ipykernel)",
   "language": "python",
   "name": "python3"
  },
  "language_info": {
   "codemirror_mode": {
    "name": "ipython",
    "version": 3
   },
   "file_extension": ".py",
   "mimetype": "text/x-python",
   "name": "python",
   "nbconvert_exporter": "python",
   "pygments_lexer": "ipython3",
   "version": "3.10.9"
  }
 },
 "nbformat": 4,
 "nbformat_minor": 5
}
